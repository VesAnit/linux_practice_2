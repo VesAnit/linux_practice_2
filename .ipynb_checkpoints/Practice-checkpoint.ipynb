{
 "cells": [
  {
   "cell_type": "code",
   "execution_count": 1,
   "id": "c1124b49-501b-41bf-a134-3b3b140d5138",
   "metadata": {},
   "outputs": [
    {
     "name": "stdout",
     "output_type": "stream",
     "text": [
      "For commit 1\n"
     ]
    }
   ],
   "source": [
    "print('For commit 1')"
   ]
  },
  {
   "cell_type": "code",
   "execution_count": 2,
   "id": "c3531724-1b47-4d9a-ad1a-7a535b1c5ff7",
   "metadata": {},
   "outputs": [
    {
     "name": "stdout",
     "output_type": "stream",
     "text": [
      "For new_branch\n"
     ]
    }
   ],
   "source": [
    "print('For new_branch')"
   ]
  },
  {
   "cell_type": "code",
   "execution_count": null,
   "id": "d1659969-ed2b-40fc-848b-1dc098d16dcd",
   "metadata": {},
   "outputs": [],
   "source": []
  }
 ],
 "metadata": {
  "kernelspec": {
   "display_name": "Python 3 (ipykernel)",
   "language": "python",
   "name": "python3"
  },
  "language_info": {
   "codemirror_mode": {
    "name": "ipython",
    "version": 3
   },
   "file_extension": ".py",
   "mimetype": "text/x-python",
   "name": "python",
   "nbconvert_exporter": "python",
   "pygments_lexer": "ipython3",
   "version": "3.12.4"
  }
 },
 "nbformat": 4,
 "nbformat_minor": 5
}
